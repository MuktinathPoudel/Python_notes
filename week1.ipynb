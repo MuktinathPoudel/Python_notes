{
 "cells": [
  {
   "cell_type": "markdown",
   "metadata": {},
   "source": [
    "# Python Data Types \n",
    "- Number\n",
    "    - int \n",
    "    - float\n",
    "    - char\n",
    "- String\n",
    "- Boolean\n"
   ]
  },
  {
   "cell_type": "markdown",
   "metadata": {},
   "source": []
  },
  {
   "cell_type": "code",
   "execution_count": 3,
   "metadata": {},
   "outputs": [
    {
     "name": "stdout",
     "output_type": "stream",
     "text": [
      "['apple', 'mango', 'banana', 'cherry']\n"
     ]
    }
   ],
   "source": [
    "fruits = [\"apple\", \"mango\" , \"cherry\"]\n",
    "fruits.insert(2, \"banana\")\n",
    "print(fruits)"
   ]
  },
  {
   "cell_type": "code",
   "execution_count": 15,
   "metadata": {},
   "outputs": [
    {
     "name": "stdout",
     "output_type": "stream",
     "text": [
      "set of a natural numbers:  {1, 2, 3, 4, 5}\n",
      "number of unique numbers:  5\n",
      "updates natural number:  {1, 2, 3, 4, 5, 6}\n",
      "{'name': 'Kadga Prasad Oli', 'age': 78, 'occupation': 'manchey lutne ra thagne', 'city': 'guffadi nagar', 'marks': [0, 0, 0, 0, 0], 'parents info': {'father_name': 'khai taha chaina', 'address': 'guffadi nagar'}}\n"
     ]
    }
   ],
   "source": [
    "natural_numbers= {1,2,3,4,5}\n",
    "print(\"set of a natural numbers: \", natural_numbers)\n",
    "\n",
    "print(\"number of unique numbers: \", len(natural_numbers))\n",
    "\n",
    "natural_numbers.add(6)\n",
    "print(\"updates natural number: \", natural_numbers)\n",
    " \n",
    "\n",
    "student = {\n",
    "    'name' : 'Kadga Prasad Oli',\n",
    "    'age' : 78,\n",
    "    'occupation' : 'manchey lutne ra thagne',\n",
    "    'city' : 'guffadi nagar',\n",
    "    'marks' : [0,0,0,0,0],\n",
    "    'parents info'  : {\n",
    "        'father_name' : 'khai taha chaina',\n",
    "        'address' : 'guffadi nagar',\n",
    "\n",
    "    }\n",
    "}\n",
    "print(student)"
   ]
  },
  {
   "cell_type": "code",
   "execution_count": null,
   "metadata": {},
   "outputs": [],
   "source": [
    "time = input(\"Please enter what time is it there: \")\n",
    "\n",
    "\n",
    "# if \n",
    "if time < 12:\n",
    "    print(\"Hi, Good Morning!\"),\n",
    "else:\n",
    "    print(\"Hi, Good Afternoon\")"
   ]
  }
 ],
 "metadata": {
  "kernelspec": {
   "display_name": "base",
   "language": "python",
   "name": "python3"
  },
  "language_info": {
   "codemirror_mode": {
    "name": "ipython",
    "version": 3
   },
   "file_extension": ".py",
   "mimetype": "text/x-python",
   "name": "python",
   "nbconvert_exporter": "python",
   "pygments_lexer": "ipython3",
   "version": "3.12.7"
  }
 },
 "nbformat": 4,
 "nbformat_minor": 2
}
