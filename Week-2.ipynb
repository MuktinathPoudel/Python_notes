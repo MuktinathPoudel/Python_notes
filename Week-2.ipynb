{
 "cells": [
  {
   "cell_type": "markdown",
   "metadata": {},
   "source": [
    "# Week-2 Assignment\n",
    "\n",
    "##### Muktinath Poudel\n",
    "##### Presidential Graduate School, Kathmandu\n",
    "##### PRG330 Python Programming with Data\n",
    "##### Prof Tek Raj Pant\n",
    "##### January 19, 2025"
   ]
  },
  {
   "cell_type": "code",
   "execution_count": 3,
   "metadata": {},
   "outputs": [
    {
     "name": "stdout",
     "output_type": "stream",
     "text": [
      "0\n",
      "1\n",
      "2\n",
      "3\n",
      "4\n",
      "5\n",
      "6\n",
      "7\n",
      "8\n",
      "9\n"
     ]
    }
   ],
   "source": [
    "count = 0\n",
    "while count < 10:\n",
    "    print(count)\n",
    "    count +=1\n"
   ]
  },
  {
   "cell_type": "markdown",
   "metadata": {},
   "source": [
    "# From given two list find out the common elements and create new lisr of common items"
   ]
  },
  {
   "cell_type": "code",
   "execution_count": 5,
   "metadata": {},
   "outputs": [
    {
     "name": "stdout",
     "output_type": "stream",
     "text": [
      "[3, 4, 5]\n",
      "[3, 4, 5]\n",
      "[3, 4, 5]\n"
     ]
    }
   ],
   "source": [
    "list_1 = [1,2,3,4,5,6]\n",
    "list_2 = [3,4,5,10]\n",
    "\n",
    "common_list = []\n",
    "for i in list_1 :\n",
    "    if i in list_2:\n",
    "        common_list.append(i)\n",
    "\n",
    "print(common_list)\n",
    "common_list= []\n",
    "for i in list_1:\n",
    "    for j in list_2:\n",
    "        if i==j:\n",
    "            common_list.append(i)\n",
    "\n",
    "print(common_list)\n",
    "#inline\n",
    "common_list = [i for i in list_1 if i in list_2]\n",
    "print(common_list)   \n",
    "    "
   ]
  },
  {
   "cell_type": "markdown",
   "metadata": {},
   "source": [
    "# Function\n",
    "- In python, fucntions are reusable block of code that perform a specific task.\n",
    "- They provide a way to modularize code, improve redability, and promote code reuse.\n",
    "- Functions can take input parameters (arguments), perform operations, and optionally return a result.\n",
    "\n",
    "## Define a Function"
   ]
  },
  {
   "cell_type": "code",
   "execution_count": 10,
   "metadata": {},
   "outputs": [],
   "source": [
    "#Syntax\n",
    "def calculator(input_1, operation, input_2):\n",
    "    if operation == '+':\n",
    "        print(input_1 + input_2)\n",
    "    elif operation == '-':\n",
    "        print(input_1 - input_2)\n",
    "    elif operation == '*':\n",
    "        print(input_1 * input_2)\n",
    "    elif operation == '/':\n",
    "        print(input_1 / input_2)\n",
    "    else:\n",
    "        print(\"Invalid Operation\")\n",
    "\n",
    "    #sum\n",
    "    calculator(1, '+', 2)\n",
    "    #subtraction\n",
    "    calculator(3, '-', 1)\n",
    "    #multiply\n",
    "    calculator(2, '*', 2 )\n",
    "    #divide\n",
    "    calculator(8, '/', 2)\n",
    "    "
   ]
  },
  {
   "cell_type": "code",
   "execution_count": 11,
   "metadata": {},
   "outputs": [],
   "source": [
    "def factorial(n):\n",
    "    result = 1\n",
    "    for i in range(1, n + 1):\n",
    "        result *= i\n",
    "        return result\n",
    "\n",
    "def sin(angle, terms=10):\n",
    "    angle = angle * (3.1415926538589793 / 180.0)\n",
    "    sin_sum = 0\n",
    "    for n in range(0, terms):\n",
    "        sign = (-1) ** n\n",
    "        sin_sum += sign * (angle ** (2 * n + 1)) / factorial(2 * n + 1)\n",
    "    return sin_sum"
   ]
  },
  {
   "cell_type": "markdown",
   "metadata": {},
   "source": [
    "# Default Arguments:\n",
    "- We can specify default values for function parameters.\n",
    "- If no value is provided for a default parameter, the default value is used."
   ]
  },
  {
   "cell_type": "code",
   "execution_count": 4,
   "metadata": {},
   "outputs": [
    {
     "name": "stdout",
     "output_type": "stream",
     "text": [
      "10\n",
      "In-active\n"
     ]
    }
   ],
   "source": [
    "def add(x=5, y=6, z=3):\n",
    "    print(x+y+z)\n",
    "\n",
    "add(x=3, y=2, z=5);\n",
    "\n",
    "def is_active(status=False):\n",
    "    if status==True:\n",
    "        print('Is active')\n",
    "    else:\n",
    "        print('In-active')\n",
    "is_active()"
   ]
  },
  {
   "cell_type": "markdown",
   "metadata": {},
   "source": [
    "# Arbitary Arguments:\n",
    "\n",
    "- Functions can accept a variable number of arguments using *args or **kwargs (keyword arguments).\n",
    "- *args is used to pass a variable number of positional arguments, while **kwargs is used to pass a variable number of keyboard arguments."
   ]
  },
  {
   "cell_type": "code",
   "execution_count": 5,
   "metadata": {},
   "outputs": [
    {
     "name": "stdout",
     "output_type": "stream",
     "text": [
      "1 2\n",
      "(3, 4, 5, 6)\n",
      "None\n"
     ]
    }
   ],
   "source": [
    "def add(a, b, *args):\n",
    "    print(a,b)\n",
    "    print(args)\n",
    "a = add(1,2,3,4,5,6)\n",
    "print(a)\n"
   ]
  },
  {
   "cell_type": "markdown",
   "metadata": {},
   "source": [
    "# Return statement:\n",
    "\n",
    "- Function can return a value using the return statement.\n",
    "- If no return statement is provided, the function returns None by default."
   ]
  },
  {
   "cell_type": "code",
   "execution_count": 21,
   "metadata": {},
   "outputs": [
    {
     "name": "stdout",
     "output_type": "stream",
     "text": [
      "odd number\n",
      "Number is odd\n",
      "Denominator cannot be zero\n",
      "None\n",
      "Error: Division by zero is not allowed\n",
      "None\n"
     ]
    }
   ],
   "source": [
    "def is_even_number(number):\n",
    "    if number %2==0:\n",
    "        print('even number')\n",
    "        return 'Number is even'\n",
    "    \n",
    "    print('odd number')\n",
    "    return 'Number is odd'\n",
    "\n",
    "check_number = is_even_number(5)\n",
    "print(check_number)\n",
    "\n",
    "def divide(x, y):\n",
    "    if y==0:\n",
    "        print(\"Denominator cannot be zero\")\n",
    "        return None\n",
    "    return x / y\n",
    "\n",
    "result = divide(19, 0)\n",
    "print(result)\n",
    "\n",
    "#another method of exception handling is \n",
    "def divide(x, y):\n",
    "    try:\n",
    "        result = x/y\n",
    "        return result\n",
    "    except ZeroDivisionError:\n",
    "        print(\"Error: Division by zero is not allowed\")\n",
    "        return None\n",
    "    \n",
    "result = divide(19, 0)\n",
    "print(result)"
   ]
  },
  {
   "cell_type": "markdown",
   "metadata": {},
   "source": [
    "# Lambda Function\n",
    "- Lambda fucntions, also known as anonymous functions, are small, single-expression fucntions defined using the lambda keyword.\n",
    "- They are often used for short, simple operations."
   ]
  },
  {
   "cell_type": "code",
   "execution_count": 22,
   "metadata": {},
   "outputs": [
    {
     "name": "stdout",
     "output_type": "stream",
     "text": [
      "16\n",
      "512\n"
     ]
    }
   ],
   "source": [
    "square = lambda x: x ** 2\n",
    "print(square(4)) # Output: 16\n",
    "cube = lambda x: x **3\n",
    "print(cube(8))"
   ]
  },
  {
   "cell_type": "markdown",
   "metadata": {},
   "source": [
    "# Write a fucntion to swap two numbers using a temporary variable. "
   ]
  },
  {
   "cell_type": "code",
   "execution_count": 46,
   "metadata": {},
   "outputs": [
    {
     "name": "stdout",
     "output_type": "stream",
     "text": [
      "After swapping: x = 10, b = 5\n"
     ]
    }
   ],
   "source": [
    "def swap_numbers(a, b):\n",
    "    a = a + b\n",
    "    b = a - b\n",
    "    a = a - b\n",
    "    return a, b\n",
    "\n",
    "a, b = 5, 10\n",
    "a, b = swap_numbers(a, b)\n",
    "print(f\"After swapping: x = {a}, b = {b}\")"
   ]
  },
  {
   "cell_type": "markdown",
   "metadata": {},
   "source": [
    "# Reverse a given list"
   ]
  },
  {
   "cell_type": "code",
   "execution_count": 5,
   "metadata": {},
   "outputs": [
    {
     "data": {
      "text/plain": [
       "[5, 4, 3, 2, 1]"
      ]
     },
     "execution_count": 5,
     "metadata": {},
     "output_type": "execute_result"
    }
   ],
   "source": [
    "def reverse_list(lst):\n",
    "    reversed_lst = []\n",
    "    for i in range(len(lst) - 1, -1, -1):\n",
    "        reversed_lst.append(lst[i])\n",
    "    return reversed_lst\n",
    "reverse_list([1,2,3,4,5])"
   ]
  },
  {
   "cell_type": "markdown",
   "metadata": {},
   "source": [
    "# Write a function to determine if a string is a palindrome."
   ]
  },
  {
   "cell_type": "code",
   "execution_count": 38,
   "metadata": {},
   "outputs": [
    {
     "name": "stdout",
     "output_type": "stream",
     "text": [
      "Hi is not a plaindrome\n"
     ]
    }
   ],
   "source": [
    "def is_palindrome(string):\n",
    "    string = string.lower()\n",
    "    return string == string[:: -1]\n",
    "word = \"Hi\"\n",
    "if is_palindrome(word):\n",
    "    print(word, \"is a plaindrome\")\n",
    "else:\n",
    "    print(word, \"is not a plaindrome\")\n"
   ]
  },
  {
   "cell_type": "markdown",
   "metadata": {},
   "source": [
    "# Count the number of vowels in a given string"
   ]
  },
  {
   "cell_type": "code",
   "execution_count": 7,
   "metadata": {},
   "outputs": [
    {
     "data": {
      "text/plain": [
       "3"
      ]
     },
     "execution_count": 7,
     "metadata": {},
     "output_type": "execute_result"
    }
   ],
   "source": [
    "def count_vowels(string):\n",
    "    vowels = 'aeiouAEIOU'\n",
    "    count = 0\n",
    "    for char in string:\n",
    "        if char in vowels:\n",
    "            count += 1\n",
    "    return count\n",
    "count_vowels(\"Muktinath\")"
   ]
  },
  {
   "cell_type": "markdown",
   "metadata": {},
   "source": [
    "# Find the common elements between two lists"
   ]
  },
  {
   "cell_type": "code",
   "execution_count": 9,
   "metadata": {},
   "outputs": [
    {
     "data": {
      "text/plain": [
       "[4, 5]"
      ]
     },
     "execution_count": 9,
     "metadata": {},
     "output_type": "execute_result"
    }
   ],
   "source": [
    "def find_common_elements(lst1, lst2):\n",
    "    common = []\n",
    "    for i in lst1:\n",
    "        for j in lst2:\n",
    "            if i == j and i not in common:\n",
    "                common.append(i)\n",
    "    return common\n",
    "lst1 = [1,2,3,4,5]\n",
    "lst2 = [4,5,6,7,8]\n",
    "find_common_elements(lst1, lst2)"
   ]
  },
  {
   "cell_type": "markdown",
   "metadata": {},
   "source": [
    "# Check if a given number is a perfect square"
   ]
  },
  {
   "cell_type": "code",
   "execution_count": 12,
   "metadata": {},
   "outputs": [
    {
     "data": {
      "text/plain": [
       "True"
      ]
     },
     "execution_count": 12,
     "metadata": {},
     "output_type": "execute_result"
    }
   ],
   "source": [
    "def is_perfect_square(num):\n",
    "    if num < 0:\n",
    "        return False\n",
    "    for i in range(num + 1):\n",
    "        if i * i == num:\n",
    "            return True\n",
    "    return False\n",
    "is_perfect_square(4)"
   ]
  },
  {
   "cell_type": "markdown",
   "metadata": {},
   "source": [
    "# Count the occurrences of a specific character in a string"
   ]
  },
  {
   "cell_type": "code",
   "execution_count": 15,
   "metadata": {},
   "outputs": [
    {
     "data": {
      "text/plain": [
       "2"
      ]
     },
     "execution_count": 15,
     "metadata": {},
     "output_type": "execute_result"
    }
   ],
   "source": [
    "def count_occurrences(string, char):\n",
    "    count = 0\n",
    "    for i in string:\n",
    "        if i == char:\n",
    "            count += 1\n",
    "    return count\n",
    "count_occurrences(\"Hi my name is Muktinath\", \"a\")"
   ]
  },
  {
   "cell_type": "markdown",
   "metadata": {},
   "source": [
    "# Find the second largest number in a list"
   ]
  },
  {
   "cell_type": "code",
   "execution_count": 16,
   "metadata": {},
   "outputs": [
    {
     "data": {
      "text/plain": [
       "56"
      ]
     },
     "execution_count": 16,
     "metadata": {},
     "output_type": "execute_result"
    }
   ],
   "source": [
    "def second_largest(lst):\n",
    "    largest = second = float('-inf')\n",
    "    for num in lst:\n",
    "        if num > largest:\n",
    "            second = largest\n",
    "            largest = num\n",
    "        elif num > second and num != largest:\n",
    "            second = num\n",
    "    return second\n",
    "second_largest([34, 45, 23, 56,89])"
   ]
  },
  {
   "cell_type": "markdown",
   "metadata": {},
   "source": [
    "# Remove duplicates from a list"
   ]
  },
  {
   "cell_type": "code",
   "execution_count": 17,
   "metadata": {},
   "outputs": [
    {
     "data": {
      "text/plain": [
       "[1, 2, 3, 4, 5, 6, 7]"
      ]
     },
     "execution_count": 17,
     "metadata": {},
     "output_type": "execute_result"
    }
   ],
   "source": [
    "def remove_duplicates(lst):\n",
    "    unique = []\n",
    "    for item in lst:\n",
    "        if item not in unique:\n",
    "            unique.append(item)\n",
    "    return unique\n",
    "remove_duplicates([1,2,3,4,4,5,6,7])"
   ]
  },
  {
   "cell_type": "markdown",
   "metadata": {},
   "source": [
    "# Print the multiplication table of a given number"
   ]
  },
  {
   "cell_type": "code",
   "execution_count": 18,
   "metadata": {},
   "outputs": [
    {
     "data": {
      "text/plain": [
       "[2, 4, 6, 8, 10, 12, 14, 16, 18, 20]"
      ]
     },
     "execution_count": 18,
     "metadata": {},
     "output_type": "execute_result"
    }
   ],
   "source": [
    "def multiplication_table(num):\n",
    "    table = []\n",
    "    for i in range(1, 11):\n",
    "        table.append(num * i)\n",
    "    return table\n",
    "multiplication_table(2)"
   ]
  },
  {
   "cell_type": "markdown",
   "metadata": {},
   "source": [
    "# Check if a number is prime or not"
   ]
  },
  {
   "cell_type": "code",
   "execution_count": 20,
   "metadata": {},
   "outputs": [
    {
     "data": {
      "text/plain": [
       "False"
      ]
     },
     "execution_count": 20,
     "metadata": {},
     "output_type": "execute_result"
    }
   ],
   "source": [
    "def is_prime(num):\n",
    "    if num <= 1:\n",
    "        return False\n",
    "    for i in range(2, num):\n",
    "        if num % i == 0:\n",
    "            return False\n",
    "    return True\n",
    "is_prime(6)"
   ]
  },
  {
   "cell_type": "code",
   "execution_count": null,
   "metadata": {},
   "outputs": [],
   "source": []
  }
 ],
 "metadata": {
  "kernelspec": {
   "display_name": "base",
   "language": "python",
   "name": "python3"
  },
  "language_info": {
   "codemirror_mode": {
    "name": "ipython",
    "version": 3
   },
   "file_extension": ".py",
   "mimetype": "text/x-python",
   "name": "python",
   "nbconvert_exporter": "python",
   "pygments_lexer": "ipython3",
   "version": "3.12.7"
  }
 },
 "nbformat": 4,
 "nbformat_minor": 2
}
